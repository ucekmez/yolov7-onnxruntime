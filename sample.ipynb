{
 "cells": [
  {
   "cell_type": "code",
   "execution_count": null,
   "id": "11b0d6ad-5084-4a33-8041-b5fc8cad195f",
   "metadata": {},
   "outputs": [],
   "source": [
    "from yolov7 import yolov7\n",
    "from PIL import Image"
   ]
  },
  {
   "cell_type": "code",
   "execution_count": null,
   "id": "20fdfead-76ff-4f0a-a6c9-467fa91d675f",
   "metadata": {},
   "outputs": [],
   "source": [
    "yolov7_detector = yolov7(\"models/yolov7-tiny_640x640.onnx\", conf_thres=0.3, iou_thres=0.5)"
   ]
  },
  {
   "cell_type": "code",
   "execution_count": null,
   "id": "f060f688-ab88-42b7-aae5-6845ad6a6393",
   "metadata": {},
   "outputs": [],
   "source": [
    "boxes1, scores1, class_ids1 = yolov7_detector(\"sample.jpg\")\n",
    "draw = yolov7_detector.draw_detections(yolov7_detector.current_image)\n",
    "Image.fromarray(draw)"
   ]
  },
  {
   "cell_type": "code",
   "execution_count": null,
   "id": "aae93f68-3caf-433e-a74a-bf1257b9d68a",
   "metadata": {},
   "outputs": [],
   "source": []
  }
 ],
 "metadata": {
  "kernelspec": {
   "display_name": "Python 3 (ipykernel)",
   "language": "python",
   "name": "python3"
  },
  "language_info": {
   "codemirror_mode": {
    "name": "ipython",
    "version": 3
   },
   "file_extension": ".py",
   "mimetype": "text/x-python",
   "name": "python",
   "nbconvert_exporter": "python",
   "pygments_lexer": "ipython3",
   "version": "3.10.6"
  }
 },
 "nbformat": 4,
 "nbformat_minor": 5
}
